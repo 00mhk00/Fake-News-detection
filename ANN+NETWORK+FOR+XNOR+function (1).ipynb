{
 "cells": [
  {
   "cell_type": "markdown",
   "metadata": {},
   "source": [
    "## ANN NETWORK FOR XNOR function"
   ]
  },
  {
   "cell_type": "markdown",
   "metadata": {},
   "source": [
    "### Step 1: Define variables"
   ]
  },
  {
   "cell_type": "code",
   "execution_count": null,
   "metadata": {
    "collapsed": true
   },
   "outputs": [],
   "source": [
    "import theano\n",
    "import theano.tensor as T\n",
    "from theano.ifelse import ifelse\n",
    "import numpy as np\n",
    "from random import random\n",
    "\n",
    "#Define variables:\n",
    "x = T.matrix('x')\n",
    "w1 = theano.shared(np.array([random(),random()]))\n",
    "w2 = theano.shared(np.array([random(),random()]))\n",
    "w3 = theano.shared(np.array([random(),random()]))\n",
    "b1 = theano.shared(1.)\n",
    "b2 = theano.shared(1.)\n",
    "learning_rate = 0.01"
   ]
  },
  {
   "cell_type": "markdown",
   "metadata": {},
   "source": [
    "##### In this step we have defined all the required variables as in the previous case. Note that now we have 3 weight vectors corresponding to each neuron and 2 bias units corresponding to 2 layers."
   ]
  },
  {
   "cell_type": "markdown",
   "metadata": {},
   "source": [
    "### Step 2: Define mathematical expression"
   ]
  },
  {
   "cell_type": "code",
   "execution_count": null,
   "metadata": {
    "collapsed": true
   },
   "outputs": [],
   "source": [
    "a1 = 1/(1+T.exp(-T.dot(x,w1)-b1))\n",
    "a2 = 1/(1+T.exp(-T.dot(x,w2)-b1))\n",
    "x2 = T.stack([a1,a2],axis=1)\n",
    "a3 = 1/(1+T.exp(-T.dot(x2,w3)-b2))"
   ]
  },
  {
   "cell_type": "markdown",
   "metadata": {},
   "source": [
    "##### Here we have simply defined mathematical expressions for each neuron in sequence. Note that here an additional step was required where x2 is determined. This is required because we want the outputs of a1 and a2 to be combined into a matrix whose dot product can be taken with the weights vector."
   ]
  },
  {
   "cell_type": "markdown",
   "metadata": {},
   "source": [
    "### Step 3: Define gradient and update rule"
   ]
  },
  {
   "cell_type": "code",
   "execution_count": null,
   "metadata": {
    "collapsed": true
   },
   "outputs": [],
   "source": [
    "a_hat = T.vector('a_hat') #Actual output\n",
    "cost = -(a_hat*T.log(a3) + (1-a_hat)*T.log(1-a3)).sum()\n",
    "dw1,dw2,dw3,db1,db2 = T.grad(cost,[w1,w2,w3,b1,b2])\n",
    "\n",
    "train = function(\n",
    "    inputs = [x,a_hat],\n",
    "    outputs = [a3,cost],\n",
    "    updates = [\n",
    "        [w1, w1-learning_rate*dw1],\n",
    "        [w2, w2-learning_rate*dw2],\n",
    "        [w3, w3-learning_rate*dw3],\n",
    "        [b1, b1-learning_rate*db1],\n",
    "        [b2, b2-learning_rate*db2]\n",
    "    ]\n",
    ")"
   ]
  },
  {
   "cell_type": "markdown",
   "metadata": {},
   "source": [
    "##### we have to determine the gradients of 3 weight vectors and 2 bias units and update them accordingly.\n",
    "\n",
    " "
   ]
  },
  {
   "cell_type": "markdown",
   "metadata": {},
   "source": [
    "### Step 4: Train the model"
   ]
  },
  {
   "cell_type": "code",
   "execution_count": null,
   "metadata": {
    "collapsed": true
   },
   "outputs": [],
   "source": [
    "inputs = [\n",
    "    [0, 0],\n",
    "    [0, 1],\n",
    "    [1, 0],\n",
    "    [1, 1]\n",
    "]\n",
    "outputs = [1,0,0,1]\n",
    "\n",
    "#Iterate through all inputs and find outputs:\n",
    "cost = []\n",
    "for iteration in range(30000):\n",
    "    pred, cost_iter = train(inputs, outputs)\n",
    "    cost.append(cost_iter)\n",
    "    \n",
    "#Print the outputs:\n",
    "print 'The outputs of the NN are:'\n",
    "for i in range(len(inputs)):\n",
    "    print 'The output for x1=%d | x2=%d is %.2f' % (inputs[i][0],inputs[i][1],pred[i])\n",
    "    \n",
    "#Plot the flow of cost:\n",
    "print '\\nThe flow of cost during model run is as following:'\n",
    "import matplotlib.pyplot as plt\n",
    "%matplotlib inline\n",
    "plt.plot(cost)"
   ]
  },
  {
   "cell_type": "code",
   "execution_count": 1,
   "metadata": {},
   "outputs": [
    {
     "name": "stderr",
     "output_type": "stream",
     "text": [
      "WARNING (theano.configdefaults): g++ not available, if using conda: `conda install m2w64-toolchain`\n",
      "C:\\ProgramData\\Anaconda3\\lib\\site-packages\\theano\\configdefaults.py:560: UserWarning: DeprecationWarning: there is no c++ compiler.This is deprecated and with Theano 0.11 a c++ compiler will be mandatory\n",
      "  warnings.warn(\"DeprecationWarning: there is no c++ compiler.\"\n",
      "WARNING (theano.configdefaults): g++ not detected ! Theano will be unable to execute optimized C-implementations (for both CPU and GPU) and will default to Python implementations. Performance will be severely degraded. To remove this warning, set Theano flags cxx to an empty string.\n",
      "WARNING (theano.tensor.blas): Using NumPy C-API based implementation for BLAS functions.\n"
     ]
    },
    {
     "name": "stdout",
     "output_type": "stream",
     "text": [
      "The outputs of the NN are:\n",
      "The output for x1=0 | x2=0 is 0.98\n",
      "The output for x1=0 | x2=1 is 0.01\n",
      "The output for x1=1 | x2=0 is 0.01\n",
      "The output for x1=1 | x2=1 is 0.98\n",
      "\n",
      "The flow of cost during model run is as following:\n"
     ]
    },
    {
     "data": {
      "text/plain": [
       "[<matplotlib.lines.Line2D at 0x17f9ea25550>]"
      ]
     },
     "execution_count": 1,
     "metadata": {},
     "output_type": "execute_result"
    },
    {
     "data": {
      "image/png": "[encoded data removed]",
      "text/plain": [
       "<matplotlib.figure.Figure at 0x17f9e869c88>"
      ]
     },
     "metadata": {},
     "output_type": "display_data"
    }
   ],
   "source": [
    "import theano\n",
    "import theano.tensor as T\n",
    "from theano.ifelse import ifelse\n",
    "import numpy as np\n",
    "from random import random\n",
    "\n",
    "\n",
    "#Define variables:\n",
    "x = T.matrix('x')\n",
    "w1 = theano.shared(np.array([random(),random()]))\n",
    "w2 = theano.shared(np.array([random(),random()]))\n",
    "w3 = theano.shared(np.array([random(),random()]))\n",
    "b1 = theano.shared(1.)\n",
    "b2 = theano.shared(1.)\n",
    "learning_rate = 0.01\n",
    "a1 = 1/(1+T.exp(-T.dot(x,w1)-b1))\n",
    "a2 = 1/(1+T.exp(-T.dot(x,w2)-b1))\n",
    "x2 = T.stack([a1,a2],axis=1)\n",
    "a3 = 1/(1+T.exp(-T.dot(x2,w3)-b2))\n",
    "\n",
    "a_hat = T.vector('a_hat') #Actual output\n",
    "cost = -(a_hat*T.log(a3) + (1-a_hat)*T.log(1-a3)).sum()\n",
    "dw1,dw2,dw3,db1,db2 = T.grad(cost,[w1,w2,w3,b1,b2])\n",
    "\n",
    "train = theano.function(\n",
    "    inputs = [x,a_hat],\n",
    "    outputs = [a3,cost],\n",
    "    updates = [\n",
    "        [w1, w1-learning_rate*dw1],\n",
    "        [w2, w2-learning_rate*dw2],\n",
    "        [w3, w3-learning_rate*dw3],\n",
    "        [b1, b1-learning_rate*db1],\n",
    "        [b2, b2-learning_rate*db2]\n",
    "    ]\n",
    ")\n",
    "inputs = [\n",
    "    [0, 0],\n",
    "    [0, 1],\n",
    "    [1, 0],\n",
    "    [1, 1]\n",
    "]\n",
    "outputs = [1,0,0,1]\n",
    "\n",
    "#Iterate through all inputs and find outputs:\n",
    "cost = []\n",
    "for iteration in range(30000):\n",
    "    pred, cost_iter = train(inputs, outputs)\n",
    "    cost.append(cost_iter)\n",
    "    \n",
    "#Print the outputs:\n",
    "print('The outputs of the NN are:')\n",
    "for i in range(len(inputs)):\n",
    "    print('The output for x1=%d | x2=%d is %.2f' % (inputs[i][0],inputs[i][1],pred[i]))\n",
    "    \n",
    "#Plot the flow of cost:\n",
    "print('\\nThe flow of cost during model run is as following:')\n",
    "import matplotlib.pyplot as plt\n",
    "%matplotlib inline\n",
    "plt.plot(cost)\n",
    "\n",
    "\n"
   ]
  },
  {
   "cell_type": "markdown",
   "metadata": {},
   "source": [
    "##### We can see that our network has successfully learned the XNOR function. Also, the cost of the model has reduced to reasonable limit. With this, we have successfully implemented a 2-layer network."
   ]
  }
 ],
 "metadata": {
  "kernelspec": {
   "display_name": "Python 3",
   "language": "python",
   "name": "python3"
  },
  "language_info": {
   "codemirror_mode": {
    "name": "ipython",
    "version": 3
   },
   "file_extension": ".py",
   "mimetype": "text/x-python",
   "name": "python",
   "nbconvert_exporter": "python",
   "pygments_lexer": "ipython3",
   "version": "3.6.3"
  }
 },
 "nbformat": 4,
 "nbformat_minor": 2
}
